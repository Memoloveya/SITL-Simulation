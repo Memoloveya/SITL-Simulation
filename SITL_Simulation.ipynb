{
  "nbformat": 4,
  "nbformat_minor": 0,
  "metadata": {
    "colab": {
      "provenance": [],
      "authorship_tag": "ABX9TyPKQjXijTAE645t8OHiJjsO",
      "include_colab_link": true
    },
    "kernelspec": {
      "name": "python3",
      "display_name": "Python 3"
    },
    "language_info": {
      "name": "python"
    }
  },
  "cells": [
    {
      "cell_type": "markdown",
      "metadata": {
        "id": "view-in-github",
        "colab_type": "text"
      },
      "source": [
        "<a href=\"https://colab.research.google.com/github/iAerialRobo/SITL-Simulation/blob/main/SITL_Simulation.ipynb\" target=\"_parent\"><img src=\"https://colab.research.google.com/assets/colab-badge.svg\" alt=\"Open In Colab\"/></a>"
      ]
    },
    {
      "cell_type": "markdown",
      "source": [
        "\n",
        "\n",
        "```\n",
        "# Installation\n",
        "```\n",
        "\n"
      ],
      "metadata": {
        "id": "hYbIDjW2zYYu"
      }
    },
    {
      "cell_type": "code",
      "source": [
        "pip install"
      ],
      "metadata": {
        "id": "-tz_601YzgvJ"
      },
      "execution_count": null,
      "outputs": []
    }
  ]
}