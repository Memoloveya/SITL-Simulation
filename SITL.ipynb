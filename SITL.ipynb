{
  "metadata": {
    "kernelspec": {
      "name": "python",
      "display_name": "Python (Pyodide)",
      "language": "python"
    },
    "language_info": {
      "codemirror_mode": {
        "name": "python",
        "version": 3
      },
      "file_extension": ".py",
      "mimetype": "text/x-python",
      "name": "python",
      "nbconvert_exporter": "python",
      "pygments_lexer": "ipython3",
      "version": "3.8"
    }
  },
  "nbformat_minor": 4,
  "nbformat": 4,
  "cells": [
    {
      "cell_type": "markdown",
      "source": "Install the Missionplanner on Windows system\nhttps://ardupilot.org/planner/docs/mission-planner-installation.html",
      "metadata": {}
    },
    {
      "cell_type": "markdown",
      "source": "WSL Setup Steps",
      "metadata": {}
    },
    {
      "cell_type": "markdown",
      "source": "The official instructions are here but the steps are also listed below.\n1. Enable WSL by opening “Control Panel”, “Programs”, “Turn Windows features on or off”, selecting “Windows Subsystem for Linux”, and press OK.\n2. Open the Microsoft store to allow installing Ubuntu. Then Launch Ubuntu and fill in a username and login\n   ",
      "metadata": {}
    },
    {
      "cell_type": "markdown",
      "source": "Install Simulation development environment",
      "metadata": {}
    },
    {
      "cell_type": "code",
      "source": "sudo apt-get update\n\nsudo apt-get install git\n\nsudo apt-get install gitk git-gui\n\nsudo apt install software-properties-common\n \nsudo add-apt-repository ppa:deadsnakes/ppa\n\nsudo apt install python3-dev gcc\n \nsudo apt update",
      "metadata": {
        "trusted": true
      },
      "outputs": [],
      "execution_count": null
    },
    {
      "cell_type": "markdown",
      "source": "Install python 3.7 and it’s virtual environment packages.",
      "metadata": {}
    },
    {
      "cell_type": "code",
      "source": "sudo apt-get install python3.7-dev python3.7-venv\n",
      "metadata": {
        "trusted": true
      },
      "outputs": [],
      "execution_count": null
    },
    {
      "cell_type": "markdown",
      "source": "Find out where your python 3.7 is located by this command:",
      "metadata": {}
    },
    {
      "cell_type": "code",
      "source": "which python3.7 \n(Should be something like /usr/bin/python3.7, if not found, then install python 3.7 manually)",
      "metadata": {
        "trusted": true
      },
      "outputs": [],
      "execution_count": null
    },
    {
      "cell_type": "markdown",
      "source": "Create Virtual Environment in the Home directory.",
      "metadata": {}
    },
    {
      "cell_type": "code",
      "source": "cd \nmkdir virtual_env\n/usr/bin/python3.7 -m venv ~/virtual_env/venv_with_python3.7",
      "metadata": {
        "trusted": true
      },
      "outputs": [],
      "execution_count": null
    },
    {
      "cell_type": "markdown",
      "source": "Enter the virtual environment",
      "metadata": {}
    },
    {
      "cell_type": "code",
      "source": "\\source ~/virtual_env/venv_with_python3.7/bin/activate\npython --version (Should be python 3.7 now)\n(Run deactivate when you need to deactivate.)",
      "metadata": {
        "trusted": true
      },
      "outputs": [],
      "execution_count": null
    },
    {
      "cell_type": "markdown",
      "source": "Install packages",
      "metadata": {}
    },
    {
      "cell_type": "code",
      "source": "pip install dronekit==2.9.2 dronekit-sitl==3.3.0 MAVProxy==1.7.1 \npip uninstall pymavlink",
      "metadata": {
        "trusted": true
      },
      "outputs": [],
      "execution_count": null
    },
    {
      "cell_type": "markdown",
      "source": "Install specific version of pymavlink",
      "metadata": {}
    },
    {
      "cell_type": "code",
      "source": "wget https://mirrors.aliyun.com/pypi/packages/cd/6a/3a068f16c5549e500a9cdeae738b5a92214174446e5a5ad9d1f6bd51a98b/pymavlink-2.4.8.tar.gz#sha256=b39749d9c75117c03cca8e0ac670d2f5a1fcff89f1567a398b29d0f198c95fb6\ncd pymavlink-2.4.8/\ntar -xzf pymavlink-2.4.8.gz\npython setup.py install",
      "metadata": {
        "trusted": true
      },
      "outputs": [],
      "execution_count": null
    },
    {
      "cell_type": "markdown",
      "source": "Run the vehicle",
      "metadata": {}
    },
    {
      "cell_type": "code",
      "source": "dronekit-sitl copter --home=35.9835973,-95.8742309,0,180",
      "metadata": {
        "trusted": true
      },
      "outputs": [],
      "execution_count": null
    },
    {
      "cell_type": "markdown",
      "source": "Run the mavproxy to broadcast the connection port for Vehicle and Mission planner",
      "metadata": {}
    },
    {
      "cell_type": "code",
      "source": "mavproxy.py --master tcp:127.0.0.1:5760 --out udp:127.0.0.1:14551 --out udp:(ip address):14550",
      "metadata": {
        "trusted": true
      },
      "outputs": [],
      "execution_count": null
    },
    {
      "cell_type": "markdown",
      "source": "By typing ipconfig in Windows terminal you can get your IPV4 ip address",
      "metadata": {}
    },
    {
      "cell_type": "code",
      "source": "Run the Missionplanner, it should connect with your vehicle automatically",
      "metadata": {
        "trusted": true
      },
      "outputs": [],
      "execution_count": null
    },
    {
      "cell_type": "markdown",
      "source": "Download tool and run the example "simple_goto.py"",
      "metadata": {}
    },
    {
      "cell_type": "code",
      "source": "git clone https://github.com/dronekit/dronekit-python.git\ncd dronekit-python/examples/simple_goto/\npython simple_goto.py",
      "metadata": {
        "trusted": true
      },
      "outputs": [],
      "execution_count": null
    },
    {
      "cell_type": "markdown",
      "source": "",
      "metadata": {}
    }
  ]
}
